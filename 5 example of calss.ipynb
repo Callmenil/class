{
  "nbformat": 4,
  "nbformat_minor": 0,
  "metadata": {
    "colab": {
      "provenance": [],
      "toc_visible": true
    },
    "kernelspec": {
      "name": "python3",
      "display_name": "Python 3"
    },
    "language_info": {
      "name": "python"
    }
  },
  "cells": [
    {
      "cell_type": "markdown",
      "source": [
        "1.use class:\n",
        "for a class called Circle .get input r and calculate area and perime"
      ],
      "metadata": {
        "id": "FlmpY5CCb8G9"
      }
    },
    {
      "cell_type": "code",
      "source": [
        "import math\n",
        "class Circle:\n",
        "      PI = math.pi\n",
        "      r = 0\n",
        "\n",
        "      def __init__(self):\n",
        "        self.r = 0\n",
        "\n",
        "      def __init__(self,r):\n",
        "        self.r = r\n",
        "\n",
        "      def __del__(self):\n",
        "        print(\"object is deleted\")\n",
        "\n",
        "      def Area(self):\n",
        "        return self.PI * (self.r * self.r)\n",
        "\n",
        "      def Perime(self):\n",
        "        return 2 * self.PI * self.r\n",
        "\n",
        "      def __str__(self):\n",
        "        s = \"R: \" + str(self.r)\n",
        "        s += \"\\t\\tArea :\" + str(self.Area())\n",
        "        s += \"\\t\\tPerime : \" + str(self.Perime())\n",
        "        return s\n",
        "\n",
        "r = int(input(\"enter r:\"))\n",
        "c = Circle(0)\n",
        "print(str(c))\n",
        "c = Circle(r)\n",
        "print(str(c))\n",
        "del c"
      ],
      "metadata": {
        "colab": {
          "base_uri": "https://localhost:8080/"
        },
        "id": "QjNylCyBcO2d",
        "outputId": "d3efeea5-c1f8-48ab-d498-c1338d731de0"
      },
      "execution_count": 5,
      "outputs": [
        {
          "output_type": "stream",
          "name": "stdout",
          "text": [
            "enter r:10\n",
            "R: 0\t\tArea :0.0\t\tPerime : 0.0\n",
            "object is deleted\n",
            "R: 10\t\tArea :314.1592653589793\t\tPerime : 62.83185307179586\n",
            "object is deleted\n"
          ]
        }
      ]
    },
    {
      "cell_type": "markdown",
      "source": [
        "2. read a code with class that get idname and password . if the idname=\"nil\" and password=\"1234\"\n",
        "show \"Correct\" otherwise show \"Not correct\"\n"
      ],
      "metadata": {
        "id": "4VOd--iTex8N"
      }
    },
    {
      "cell_type": "code",
      "source": [
        "class User:\n",
        "  username = \"nil\"\n",
        "  password = \"1234\"\n",
        "\n",
        "  def isCorrect(self , username , password):\n",
        "    return self.username == username and self.password == password\n",
        "\n",
        "username = input(\"enter idname : \")\n",
        "password = input(\"enter pass: \")\n",
        "user1 = User ()\n",
        "\n",
        "if user1.isCorrect (username , password ) == True :\n",
        "  print(\"correct\")\n",
        "else:\n",
        "  print(\"Not correct\")"
      ],
      "metadata": {
        "id": "XT612teQfWW5"
      },
      "execution_count": null,
      "outputs": []
    },
    {
      "cell_type": "markdown",
      "source": [
        "3.the program takes the radius of s sphere , calculates and displayes its volume and surface using a class named Sphere"
      ],
      "metadata": {
        "id": "mGvyK8GcguTo"
      }
    },
    {
      "cell_type": "code",
      "source": [
        "\n",
        "class Sphere:\n",
        "  PI = 3.1415\n",
        "  r = 0\n",
        "\n",
        "  def __init__(self, r):\n",
        "    if r > 0:\n",
        "      self.r = r\n",
        "    else:\n",
        "      self.r = 0\n",
        "\n",
        "  def Volume (self):\n",
        "    return (4.0 / 3) * self.r ** 3 * self.PI\n",
        "\n",
        "  def Area (self):\n",
        "    return 4.0 * self.r ** 2 * self.PI\n",
        "\n",
        "r = int(input(\"enter r:\"))\n",
        "s = Sphere (r)\n",
        "print (\"Volume is: \" , s.Volume(), \"Area is :\", s.Area())"
      ],
      "metadata": {
        "id": "sOKh46IDiXUD"
      },
      "execution_count": null,
      "outputs": []
    },
    {
      "cell_type": "markdown",
      "source": [
        "4. code that compare time with two objects\n",
        "this Class has 3 items : hours , minutes , second"
      ],
      "metadata": {
        "id": "GVzAEq0Ujila"
      }
    },
    {
      "cell_type": "code",
      "source": [
        "class Time:\n",
        "  hour = 0\n",
        "  minute = 0\n",
        "  second = 0\n",
        "\n",
        "  def __init__(self, hour = 0, minute = 0, second = 0 ):\n",
        "    self.hour = hour\n",
        "    self.minute = minute\n",
        "    self.second = second\n",
        "\n",
        "  def isEqual(self , t):\n",
        "    return self.hour == t.hour  and self.minute == t.minute and self.second == t.second\n",
        "\n",
        "t1 = Time ()\n",
        "t2 = Time (10, 55, 40)\n",
        "\n",
        "if t1.isEqual (t2) == True :\n",
        "  print(\"t1 Equals t2\")\n",
        "\n",
        "else:\n",
        "  print(\"t1 not Equals t2\")\n",
        "\n",
        "if t2.isEqual (t2) == True:\n",
        "  print(\"t2 is Equals t2\")\n",
        "\n",
        "else:\n",
        "  print(\"t2 not Equal t2\")"
      ],
      "metadata": {
        "colab": {
          "base_uri": "https://localhost:8080/"
        },
        "id": "7Kn5v-h0j13y",
        "outputId": "e36deb0b-bec2-4a14-a73a-f413ab5fa16e"
      },
      "execution_count": 10,
      "outputs": [
        {
          "output_type": "stream",
          "name": "stdout",
          "text": [
            "t1 not Equals t2\n",
            "t2 is Equals t2\n"
          ]
        }
      ]
    },
    {
      "cell_type": "markdown",
      "source": [
        "5. create a class that has below features:\n",
        "1.id of teacher\n",
        "2.name of teacher\n",
        "3.last name of teacher\n",
        "4.hours of teaching\n",
        "5.payment\n",
        "\n",
        "result will be the mul of 4*5\n"
      ],
      "metadata": {
        "id": "8zM3m-1alK5G"
      }
    },
    {
      "cell_type": "code",
      "source": [
        "class Teacher :\n",
        "  def __init__(self , i=\"\", f=\"\", l=\"\", h=0 , p=0):\n",
        "    self.id=i\n",
        "    self.firstname=f\n",
        "    self.lastname=l\n",
        "    self.hour=h\n",
        "    self.pay=p\n",
        "\n",
        "  def getid(self):\n",
        "    return self.id\n",
        "\n",
        "  def setid(self,value):\n",
        "    self.id = value\n",
        "\n",
        "  def getfirstname(self):\n",
        "    return self.firstname\n",
        "\n",
        "  def setfirstname(self , value):\n",
        "    self.firstname = value\n",
        "\n",
        "  def getlastname(value):\n",
        "    return self.lastname\n",
        "\n",
        "  def setlastname(self , value):\n",
        "    self.lastname = value\n",
        "\n",
        "  def gethour(self):\n",
        "    return self.hour\n",
        "\n",
        "  def sethour(self , value):\n",
        "    if value > 0:\n",
        "      self.hour = value\n",
        "    else:\n",
        "      self.hour = 0\n",
        "\n",
        "  def getpay(self):\n",
        "    return self.pay\n",
        "\n",
        "  def setpay(self , value):\n",
        "    if value > 0:\n",
        "      self.pay = value\n",
        "\n",
        "    else:\n",
        "      self.pay = 0\n",
        "\n",
        "  def payment(self):\n",
        "    return self.hour * self.pay\n",
        "\n",
        "  def __str__(self):\n",
        "    return f\"{self.id} {self.firstname}. {self.lastname} {self.hour} {self. pay} {self.payment()}\"\n",
        "\n",
        "\n",
        "\n",
        "def main():\n",
        "  t1 = Teacher()\n",
        "  print(str(t1))\n",
        "  t2 = Teacher(\"12\" , \"ali\" , \"ahmadi\" , 140 , 7000)\n",
        "  print(str(t2))\n",
        "\n",
        "main()\n",
        "\n",
        "\n",
        "\n",
        "\n"
      ],
      "metadata": {
        "id": "8vt-v_KesLp8"
      },
      "execution_count": null,
      "outputs": []
    }
  ]
}